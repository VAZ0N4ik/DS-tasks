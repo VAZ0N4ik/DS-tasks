{
 "cells": [
  {
   "cell_type": "markdown",
   "metadata": {},
   "source": [
    "# Задание"
   ]
  },
  {
   "cell_type": "markdown",
   "metadata": {},
   "source": [
    "Данные по клиентам заархивированы в формате zip - сразу их разархивируем. Для этого нам понадобится библиотека zipfile."
   ]
  },
  {
   "cell_type": "code",
   "execution_count": 6,
   "metadata": {
    "ExecuteTime": {
     "end_time": "2023-09-02T17:40:02.294765300Z",
     "start_time": "2023-09-02T17:40:01.637496Z"
    }
   },
   "outputs": [],
   "source": [
    "import zipfile\n",
    "import pandas as pd\n",
    "import numpy as np"
   ]
  },
  {
   "cell_type": "code",
   "execution_count": 7,
   "metadata": {
    "ExecuteTime": {
     "end_time": "2023-09-02T17:40:04.145094100Z",
     "start_time": "2023-09-02T17:40:02.292764800Z"
    }
   },
   "outputs": [],
   "source": [
    "with zipfile.ZipFile('../datasets/client_info.csv.zip', 'r') as zip_ref:\n",
    "    zip_ref.extractall('../datasets')"
   ]
  },
  {
   "cell_type": "code",
   "execution_count": 8,
   "metadata": {
    "ExecuteTime": {
     "end_time": "2023-09-02T17:40:10.264720Z",
     "start_time": "2023-09-02T17:40:04.146095500Z"
    },
    "id": "dxhM1MLjPc31"
   },
   "outputs": [],
   "source": [
    "df = pd.read_csv('../datasets/client_info.csv')"
   ]
  },
  {
   "cell_type": "code",
   "execution_count": 9,
   "metadata": {
    "ExecuteTime": {
     "end_time": "2023-09-02T17:40:10.336351Z",
     "start_time": "2023-09-02T17:40:10.263718500Z"
    }
   },
   "outputs": [
    {
     "data": {
      "text/html": [
       "<div>\n",
       "<style scoped>\n",
       "    .dataframe tbody tr th:only-of-type {\n",
       "        vertical-align: middle;\n",
       "    }\n",
       "\n",
       "    .dataframe tbody tr th {\n",
       "        vertical-align: top;\n",
       "    }\n",
       "\n",
       "    .dataframe thead th {\n",
       "        text-align: right;\n",
       "    }\n",
       "</style>\n",
       "<table border=\"1\" class=\"dataframe\">\n",
       "  <thead>\n",
       "    <tr style=\"text-align: right;\">\n",
       "      <th></th>\n",
       "      <th>ID</th>\n",
       "      <th>CR_PROD_CNT_IL</th>\n",
       "      <th>AMOUNT_RUB_CLO_PRC</th>\n",
       "      <th>APP_REGISTR_RGN_CODE</th>\n",
       "      <th>TURNOVER_DYNAMIC_IL_1M</th>\n",
       "      <th>LDEAL_YQZ_COM_GROUP</th>\n",
       "      <th>LDEAL_YQZ_CHRG_GROUP</th>\n",
       "      <th>AVG_PCT_MONTH_TO_PCLOSE_GROUP</th>\n",
       "      <th>MAX_PCLOSE_DATE_GROUP</th>\n",
       "      <th>AVG_PCT_DEBT_TO_DEAL_AMT_GROUP</th>\n",
       "      <th>...</th>\n",
       "      <th>CLNT_SETUP_TENOR</th>\n",
       "      <th>TURNOVER_DYNAMIC_PAYM_3M</th>\n",
       "      <th>TURNOVER_DYNAMIC_PAYM_1M</th>\n",
       "      <th>TRANS_AMOUNT_TENDENCY3M</th>\n",
       "      <th>TRANS_CNT_TENDENCY3M</th>\n",
       "      <th>REST_DYNAMIC_CC_1M</th>\n",
       "      <th>TURNOVER_DYNAMIC_CC_1M</th>\n",
       "      <th>REST_DYNAMIC_CC_3M</th>\n",
       "      <th>TURNOVER_DYNAMIC_CC_3M</th>\n",
       "      <th>TARGET</th>\n",
       "    </tr>\n",
       "  </thead>\n",
       "  <tbody>\n",
       "    <tr>\n",
       "      <th>0</th>\n",
       "      <td>146841</td>\n",
       "      <td>0</td>\n",
       "      <td>0.000000</td>\n",
       "      <td>неизвестна</td>\n",
       "      <td>0.0</td>\n",
       "      <td>неизвестна</td>\n",
       "      <td>неизвестна</td>\n",
       "      <td>неизвестна</td>\n",
       "      <td>неизвестна</td>\n",
       "      <td>неизвестна</td>\n",
       "      <td>...</td>\n",
       "      <td>1.593023</td>\n",
       "      <td>0.0</td>\n",
       "      <td>0.0</td>\n",
       "      <td>0.483032</td>\n",
       "      <td>0.406780</td>\n",
       "      <td>0.0</td>\n",
       "      <td>0.0</td>\n",
       "      <td>0.0</td>\n",
       "      <td>0.0</td>\n",
       "      <td>0</td>\n",
       "    </tr>\n",
       "    <tr>\n",
       "      <th>1</th>\n",
       "      <td>146842</td>\n",
       "      <td>0</td>\n",
       "      <td>0.041033</td>\n",
       "      <td>неизвестна</td>\n",
       "      <td>0.0</td>\n",
       "      <td>неизвестна</td>\n",
       "      <td>неизвестна</td>\n",
       "      <td>неизвестна</td>\n",
       "      <td>неизвестна</td>\n",
       "      <td>неизвестна</td>\n",
       "      <td>...</td>\n",
       "      <td>1.587647</td>\n",
       "      <td>0.0</td>\n",
       "      <td>0.0</td>\n",
       "      <td>0.394340</td>\n",
       "      <td>0.545455</td>\n",
       "      <td>0.0</td>\n",
       "      <td>0.0</td>\n",
       "      <td>0.0</td>\n",
       "      <td>0.0</td>\n",
       "      <td>0</td>\n",
       "    </tr>\n",
       "    <tr>\n",
       "      <th>2</th>\n",
       "      <td>146843</td>\n",
       "      <td>0</td>\n",
       "      <td>0.006915</td>\n",
       "      <td>неизвестна</td>\n",
       "      <td>0.0</td>\n",
       "      <td>неизвестна</td>\n",
       "      <td>неизвестна</td>\n",
       "      <td>неизвестна</td>\n",
       "      <td>неизвестна</td>\n",
       "      <td>неизвестна</td>\n",
       "      <td>...</td>\n",
       "      <td>1.587647</td>\n",
       "      <td>0.0</td>\n",
       "      <td>0.0</td>\n",
       "      <td>0.399342</td>\n",
       "      <td>0.297297</td>\n",
       "      <td>0.0</td>\n",
       "      <td>0.0</td>\n",
       "      <td>0.0</td>\n",
       "      <td>0.0</td>\n",
       "      <td>0</td>\n",
       "    </tr>\n",
       "    <tr>\n",
       "      <th>3</th>\n",
       "      <td>146844</td>\n",
       "      <td>0</td>\n",
       "      <td>0.000000</td>\n",
       "      <td>неизвестна</td>\n",
       "      <td>0.0</td>\n",
       "      <td>неизвестна</td>\n",
       "      <td>неизвестна</td>\n",
       "      <td>неизвестна</td>\n",
       "      <td>неизвестна</td>\n",
       "      <td>неизвестна</td>\n",
       "      <td>...</td>\n",
       "      <td>1.583333</td>\n",
       "      <td>0.0</td>\n",
       "      <td>0.0</td>\n",
       "      <td>0.552169</td>\n",
       "      <td>0.558824</td>\n",
       "      <td>0.0</td>\n",
       "      <td>0.0</td>\n",
       "      <td>0.0</td>\n",
       "      <td>0.0</td>\n",
       "      <td>0</td>\n",
       "    </tr>\n",
       "    <tr>\n",
       "      <th>4</th>\n",
       "      <td>146845</td>\n",
       "      <td>0</td>\n",
       "      <td>0.000000</td>\n",
       "      <td>неизвестна</td>\n",
       "      <td>0.0</td>\n",
       "      <td>неизвестна</td>\n",
       "      <td>неизвестна</td>\n",
       "      <td>неизвестна</td>\n",
       "      <td>неизвестна</td>\n",
       "      <td>неизвестна</td>\n",
       "      <td>...</td>\n",
       "      <td>1.583333</td>\n",
       "      <td>0.0</td>\n",
       "      <td>0.0</td>\n",
       "      <td>0.611610</td>\n",
       "      <td>0.620690</td>\n",
       "      <td>0.0</td>\n",
       "      <td>0.0</td>\n",
       "      <td>0.0</td>\n",
       "      <td>0.0</td>\n",
       "      <td>0</td>\n",
       "    </tr>\n",
       "  </tbody>\n",
       "</table>\n",
       "<p>5 rows × 105 columns</p>\n",
       "</div>"
      ],
      "text/plain": [
       "       ID  CR_PROD_CNT_IL  AMOUNT_RUB_CLO_PRC APP_REGISTR_RGN_CODE  \\\n",
       "0  146841               0            0.000000           неизвестна   \n",
       "1  146842               0            0.041033           неизвестна   \n",
       "2  146843               0            0.006915           неизвестна   \n",
       "3  146844               0            0.000000           неизвестна   \n",
       "4  146845               0            0.000000           неизвестна   \n",
       "\n",
       "   TURNOVER_DYNAMIC_IL_1M LDEAL_YQZ_COM_GROUP LDEAL_YQZ_CHRG_GROUP  \\\n",
       "0                     0.0          неизвестна           неизвестна   \n",
       "1                     0.0          неизвестна           неизвестна   \n",
       "2                     0.0          неизвестна           неизвестна   \n",
       "3                     0.0          неизвестна           неизвестна   \n",
       "4                     0.0          неизвестна           неизвестна   \n",
       "\n",
       "  AVG_PCT_MONTH_TO_PCLOSE_GROUP MAX_PCLOSE_DATE_GROUP  \\\n",
       "0                    неизвестна            неизвестна   \n",
       "1                    неизвестна            неизвестна   \n",
       "2                    неизвестна            неизвестна   \n",
       "3                    неизвестна            неизвестна   \n",
       "4                    неизвестна            неизвестна   \n",
       "\n",
       "  AVG_PCT_DEBT_TO_DEAL_AMT_GROUP  ... CLNT_SETUP_TENOR  \\\n",
       "0                     неизвестна  ...         1.593023   \n",
       "1                     неизвестна  ...         1.587647   \n",
       "2                     неизвестна  ...         1.587647   \n",
       "3                     неизвестна  ...         1.583333   \n",
       "4                     неизвестна  ...         1.583333   \n",
       "\n",
       "  TURNOVER_DYNAMIC_PAYM_3M TURNOVER_DYNAMIC_PAYM_1M TRANS_AMOUNT_TENDENCY3M  \\\n",
       "0                      0.0                      0.0                0.483032   \n",
       "1                      0.0                      0.0                0.394340   \n",
       "2                      0.0                      0.0                0.399342   \n",
       "3                      0.0                      0.0                0.552169   \n",
       "4                      0.0                      0.0                0.611610   \n",
       "\n",
       "  TRANS_CNT_TENDENCY3M REST_DYNAMIC_CC_1M TURNOVER_DYNAMIC_CC_1M  \\\n",
       "0             0.406780                0.0                    0.0   \n",
       "1             0.545455                0.0                    0.0   \n",
       "2             0.297297                0.0                    0.0   \n",
       "3             0.558824                0.0                    0.0   \n",
       "4             0.620690                0.0                    0.0   \n",
       "\n",
       "  REST_DYNAMIC_CC_3M TURNOVER_DYNAMIC_CC_3M TARGET  \n",
       "0                0.0                    0.0      0  \n",
       "1                0.0                    0.0      0  \n",
       "2                0.0                    0.0      0  \n",
       "3                0.0                    0.0      0  \n",
       "4                0.0                    0.0      0  \n",
       "\n",
       "[5 rows x 105 columns]"
      ]
     },
     "execution_count": 9,
     "metadata": {},
     "output_type": "execute_result"
    }
   ],
   "source": [
    "df.head(5)"
   ]
  },
  {
   "cell_type": "markdown",
   "metadata": {},
   "source": [
    "## Задание 1\n",
    "Назначь колонку `ID` индексом таблицы."
   ]
  },
  {
   "cell_type": "code",
   "execution_count": 10,
   "metadata": {
    "ExecuteTime": {
     "end_time": "2023-09-02T17:40:10.691881900Z",
     "start_time": "2023-09-02T17:40:10.293312500Z"
    }
   },
   "outputs": [
    {
     "data": {
      "text/html": [
       "<div>\n",
       "<style scoped>\n",
       "    .dataframe tbody tr th:only-of-type {\n",
       "        vertical-align: middle;\n",
       "    }\n",
       "\n",
       "    .dataframe tbody tr th {\n",
       "        vertical-align: top;\n",
       "    }\n",
       "\n",
       "    .dataframe thead th {\n",
       "        text-align: right;\n",
       "    }\n",
       "</style>\n",
       "<table border=\"1\" class=\"dataframe\">\n",
       "  <thead>\n",
       "    <tr style=\"text-align: right;\">\n",
       "      <th></th>\n",
       "      <th>CR_PROD_CNT_IL</th>\n",
       "      <th>AMOUNT_RUB_CLO_PRC</th>\n",
       "      <th>APP_REGISTR_RGN_CODE</th>\n",
       "      <th>TURNOVER_DYNAMIC_IL_1M</th>\n",
       "      <th>LDEAL_YQZ_COM_GROUP</th>\n",
       "      <th>LDEAL_YQZ_CHRG_GROUP</th>\n",
       "      <th>AVG_PCT_MONTH_TO_PCLOSE_GROUP</th>\n",
       "      <th>MAX_PCLOSE_DATE_GROUP</th>\n",
       "      <th>AVG_PCT_DEBT_TO_DEAL_AMT_GROUP</th>\n",
       "      <th>LDEAL_AMT_MONTH_GROUP</th>\n",
       "      <th>...</th>\n",
       "      <th>CLNT_SETUP_TENOR</th>\n",
       "      <th>TURNOVER_DYNAMIC_PAYM_3M</th>\n",
       "      <th>TURNOVER_DYNAMIC_PAYM_1M</th>\n",
       "      <th>TRANS_AMOUNT_TENDENCY3M</th>\n",
       "      <th>TRANS_CNT_TENDENCY3M</th>\n",
       "      <th>REST_DYNAMIC_CC_1M</th>\n",
       "      <th>TURNOVER_DYNAMIC_CC_1M</th>\n",
       "      <th>REST_DYNAMIC_CC_3M</th>\n",
       "      <th>TURNOVER_DYNAMIC_CC_3M</th>\n",
       "      <th>TARGET</th>\n",
       "    </tr>\n",
       "    <tr>\n",
       "      <th>ID</th>\n",
       "      <th></th>\n",
       "      <th></th>\n",
       "      <th></th>\n",
       "      <th></th>\n",
       "      <th></th>\n",
       "      <th></th>\n",
       "      <th></th>\n",
       "      <th></th>\n",
       "      <th></th>\n",
       "      <th></th>\n",
       "      <th></th>\n",
       "      <th></th>\n",
       "      <th></th>\n",
       "      <th></th>\n",
       "      <th></th>\n",
       "      <th></th>\n",
       "      <th></th>\n",
       "      <th></th>\n",
       "      <th></th>\n",
       "      <th></th>\n",
       "      <th></th>\n",
       "    </tr>\n",
       "  </thead>\n",
       "  <tbody>\n",
       "    <tr>\n",
       "      <th>146841</th>\n",
       "      <td>0</td>\n",
       "      <td>0.000000</td>\n",
       "      <td>неизвестна</td>\n",
       "      <td>0.0</td>\n",
       "      <td>неизвестна</td>\n",
       "      <td>неизвестна</td>\n",
       "      <td>неизвестна</td>\n",
       "      <td>неизвестна</td>\n",
       "      <td>неизвестна</td>\n",
       "      <td>неизвестна</td>\n",
       "      <td>...</td>\n",
       "      <td>1.593023</td>\n",
       "      <td>0.0</td>\n",
       "      <td>0.0</td>\n",
       "      <td>0.483032</td>\n",
       "      <td>0.406780</td>\n",
       "      <td>0.0</td>\n",
       "      <td>0.0</td>\n",
       "      <td>0.0</td>\n",
       "      <td>0.0</td>\n",
       "      <td>0</td>\n",
       "    </tr>\n",
       "    <tr>\n",
       "      <th>146842</th>\n",
       "      <td>0</td>\n",
       "      <td>0.041033</td>\n",
       "      <td>неизвестна</td>\n",
       "      <td>0.0</td>\n",
       "      <td>неизвестна</td>\n",
       "      <td>неизвестна</td>\n",
       "      <td>неизвестна</td>\n",
       "      <td>неизвестна</td>\n",
       "      <td>неизвестна</td>\n",
       "      <td>неизвестна</td>\n",
       "      <td>...</td>\n",
       "      <td>1.587647</td>\n",
       "      <td>0.0</td>\n",
       "      <td>0.0</td>\n",
       "      <td>0.394340</td>\n",
       "      <td>0.545455</td>\n",
       "      <td>0.0</td>\n",
       "      <td>0.0</td>\n",
       "      <td>0.0</td>\n",
       "      <td>0.0</td>\n",
       "      <td>0</td>\n",
       "    </tr>\n",
       "    <tr>\n",
       "      <th>146843</th>\n",
       "      <td>0</td>\n",
       "      <td>0.006915</td>\n",
       "      <td>неизвестна</td>\n",
       "      <td>0.0</td>\n",
       "      <td>неизвестна</td>\n",
       "      <td>неизвестна</td>\n",
       "      <td>неизвестна</td>\n",
       "      <td>неизвестна</td>\n",
       "      <td>неизвестна</td>\n",
       "      <td>неизвестна</td>\n",
       "      <td>...</td>\n",
       "      <td>1.587647</td>\n",
       "      <td>0.0</td>\n",
       "      <td>0.0</td>\n",
       "      <td>0.399342</td>\n",
       "      <td>0.297297</td>\n",
       "      <td>0.0</td>\n",
       "      <td>0.0</td>\n",
       "      <td>0.0</td>\n",
       "      <td>0.0</td>\n",
       "      <td>0</td>\n",
       "    </tr>\n",
       "    <tr>\n",
       "      <th>146844</th>\n",
       "      <td>0</td>\n",
       "      <td>0.000000</td>\n",
       "      <td>неизвестна</td>\n",
       "      <td>0.0</td>\n",
       "      <td>неизвестна</td>\n",
       "      <td>неизвестна</td>\n",
       "      <td>неизвестна</td>\n",
       "      <td>неизвестна</td>\n",
       "      <td>неизвестна</td>\n",
       "      <td>неизвестна</td>\n",
       "      <td>...</td>\n",
       "      <td>1.583333</td>\n",
       "      <td>0.0</td>\n",
       "      <td>0.0</td>\n",
       "      <td>0.552169</td>\n",
       "      <td>0.558824</td>\n",
       "      <td>0.0</td>\n",
       "      <td>0.0</td>\n",
       "      <td>0.0</td>\n",
       "      <td>0.0</td>\n",
       "      <td>0</td>\n",
       "    </tr>\n",
       "    <tr>\n",
       "      <th>146845</th>\n",
       "      <td>0</td>\n",
       "      <td>0.000000</td>\n",
       "      <td>неизвестна</td>\n",
       "      <td>0.0</td>\n",
       "      <td>неизвестна</td>\n",
       "      <td>неизвестна</td>\n",
       "      <td>неизвестна</td>\n",
       "      <td>неизвестна</td>\n",
       "      <td>неизвестна</td>\n",
       "      <td>неизвестна</td>\n",
       "      <td>...</td>\n",
       "      <td>1.583333</td>\n",
       "      <td>0.0</td>\n",
       "      <td>0.0</td>\n",
       "      <td>0.611610</td>\n",
       "      <td>0.620690</td>\n",
       "      <td>0.0</td>\n",
       "      <td>0.0</td>\n",
       "      <td>0.0</td>\n",
       "      <td>0.0</td>\n",
       "      <td>0</td>\n",
       "    </tr>\n",
       "  </tbody>\n",
       "</table>\n",
       "<p>5 rows × 104 columns</p>\n",
       "</div>"
      ],
      "text/plain": [
       "        CR_PROD_CNT_IL  AMOUNT_RUB_CLO_PRC APP_REGISTR_RGN_CODE  \\\n",
       "ID                                                                \n",
       "146841               0            0.000000           неизвестна   \n",
       "146842               0            0.041033           неизвестна   \n",
       "146843               0            0.006915           неизвестна   \n",
       "146844               0            0.000000           неизвестна   \n",
       "146845               0            0.000000           неизвестна   \n",
       "\n",
       "        TURNOVER_DYNAMIC_IL_1M LDEAL_YQZ_COM_GROUP LDEAL_YQZ_CHRG_GROUP  \\\n",
       "ID                                                                        \n",
       "146841                     0.0          неизвестна           неизвестна   \n",
       "146842                     0.0          неизвестна           неизвестна   \n",
       "146843                     0.0          неизвестна           неизвестна   \n",
       "146844                     0.0          неизвестна           неизвестна   \n",
       "146845                     0.0          неизвестна           неизвестна   \n",
       "\n",
       "       AVG_PCT_MONTH_TO_PCLOSE_GROUP MAX_PCLOSE_DATE_GROUP  \\\n",
       "ID                                                           \n",
       "146841                    неизвестна            неизвестна   \n",
       "146842                    неизвестна            неизвестна   \n",
       "146843                    неизвестна            неизвестна   \n",
       "146844                    неизвестна            неизвестна   \n",
       "146845                    неизвестна            неизвестна   \n",
       "\n",
       "       AVG_PCT_DEBT_TO_DEAL_AMT_GROUP LDEAL_AMT_MONTH_GROUP  ...  \\\n",
       "ID                                                           ...   \n",
       "146841                     неизвестна            неизвестна  ...   \n",
       "146842                     неизвестна            неизвестна  ...   \n",
       "146843                     неизвестна            неизвестна  ...   \n",
       "146844                     неизвестна            неизвестна  ...   \n",
       "146845                     неизвестна            неизвестна  ...   \n",
       "\n",
       "       CLNT_SETUP_TENOR TURNOVER_DYNAMIC_PAYM_3M TURNOVER_DYNAMIC_PAYM_1M  \\\n",
       "ID                                                                          \n",
       "146841         1.593023                      0.0                      0.0   \n",
       "146842         1.587647                      0.0                      0.0   \n",
       "146843         1.587647                      0.0                      0.0   \n",
       "146844         1.583333                      0.0                      0.0   \n",
       "146845         1.583333                      0.0                      0.0   \n",
       "\n",
       "       TRANS_AMOUNT_TENDENCY3M TRANS_CNT_TENDENCY3M REST_DYNAMIC_CC_1M  \\\n",
       "ID                                                                       \n",
       "146841                0.483032             0.406780                0.0   \n",
       "146842                0.394340             0.545455                0.0   \n",
       "146843                0.399342             0.297297                0.0   \n",
       "146844                0.552169             0.558824                0.0   \n",
       "146845                0.611610             0.620690                0.0   \n",
       "\n",
       "       TURNOVER_DYNAMIC_CC_1M REST_DYNAMIC_CC_3M TURNOVER_DYNAMIC_CC_3M TARGET  \n",
       "ID                                                                              \n",
       "146841                    0.0                0.0                    0.0      0  \n",
       "146842                    0.0                0.0                    0.0      0  \n",
       "146843                    0.0                0.0                    0.0      0  \n",
       "146844                    0.0                0.0                    0.0      0  \n",
       "146845                    0.0                0.0                    0.0      0  \n",
       "\n",
       "[5 rows x 104 columns]"
      ]
     },
     "execution_count": 10,
     "metadata": {},
     "output_type": "execute_result"
    }
   ],
   "source": [
    "df = df.set_index('ID')\n",
    "df.head(5)"
   ]
  },
  {
   "cell_type": "markdown",
   "metadata": {},
   "source": [
    "## Задание 2\n",
    "Определимся, что является нашим `X`, а что является нашим `Y`. \n",
    "Для этого изучи документ, описывающий [датасет](../datasets/data_description.docs).\n",
    "Признаки сохрани в переменную `X`. А целевую переменную, которую мы будем предсказывать, в переменную `Y`\n",
    "Выведи размерность этих таблиц"
   ]
  },
  {
   "cell_type": "code",
   "execution_count": 11,
   "metadata": {},
   "outputs": [
    {
     "name": "stdout",
     "output_type": "stream",
     "text": [
      "X: (355190, 103)\n",
      "Y: (355190, 1)\n"
     ]
    }
   ],
   "source": [
    "X = df.drop('TARGET', axis=1)\n",
    "Y = df['TARGET'].to_frame()\n",
    "print(f'X: {X.shape}')\n",
    "print(f'Y: {Y.shape}')"
   ]
  },
  {
   "cell_type": "markdown",
   "metadata": {},
   "source": [
    "## Задание 3\n",
    "Наши признаки содержат в себе как количественные, так и категориальные переменные. Разделим признаки. \n",
    "В этом поможет тип данных колонки. Категориальные переменные сохрани в переменную `X_cat`, а количественные в `X_num`. \n",
    "Выведи число категориальных и количественные переменных."
   ]
  },
  {
   "cell_type": "code",
   "execution_count": 12,
   "metadata": {
    "ExecuteTime": {
     "end_time": "2023-09-03T07:14:08.974603Z",
     "start_time": "2023-09-03T07:14:08.596126400Z"
    }
   },
   "outputs": [
    {
     "name": "stdout",
     "output_type": "stream",
     "text": [
      "Число категориальных переменных: 56\n",
      "Число количественных переменных: 47\n"
     ]
    }
   ],
   "source": [
    "X_cat = X.select_dtypes(include=['object'])\n",
    "X_num = X.select_dtypes(include=['int','float'])\n",
    "print(f'Число категориальных переменных: {X_cat.columns.size}')\n",
    "print(f'Число количественных переменных: {X_num.columns.size}')"
   ]
  },
  {
   "cell_type": "markdown",
   "metadata": {
    "collapsed": false
   },
   "source": [
    "## Задание 4\n",
    "Предобработаем количественные переменные. Проведи стандартизацию для признаков X_num.\n",
    "Сохрани результат стандартизации в переменную `X_num_scal`. \n",
    "Выведи среднее и стандартное отклонение по датасету для каждого признака после стандартизации. \n",
    "Значения округли для сотых."
   ]
  },
  {
   "cell_type": "code",
   "execution_count": 13,
   "metadata": {
    "ExecuteTime": {
     "end_time": "2023-09-03T07:21:55.188562Z",
     "start_time": "2023-09-03T07:21:55.154899200Z"
    }
   },
   "outputs": [
    {
     "name": "stdout",
     "output_type": "stream",
     "text": [
      "Cтандартное отклонение:\n",
      "CR_PROD_CNT_IL              1.0\n",
      "AMOUNT_RUB_CLO_PRC          1.0\n",
      "TURNOVER_DYNAMIC_IL_1M      1.0\n",
      "AMOUNT_RUB_SUP_PRC          1.0\n",
      "REST_DYNAMIC_FDEP_1M        1.0\n",
      "REST_DYNAMIC_SAVE_3M        1.0\n",
      "CR_PROD_CNT_VCU             1.0\n",
      "REST_AVG_CUR                1.0\n",
      "AMOUNT_RUB_NAS_PRC          1.0\n",
      "TRANS_COUNT_SUP_PRC         1.0\n",
      "TRANS_COUNT_NAS_PRC         1.0\n",
      "CR_PROD_CNT_TOVR            1.0\n",
      "CR_PROD_CNT_PIL             1.0\n",
      "TURNOVER_CC                 1.0\n",
      "TRANS_COUNT_ATM_PRC         1.0\n",
      "AMOUNT_RUB_ATM_PRC          1.0\n",
      "TURNOVER_PAYM               1.0\n",
      "AGE                         1.0\n",
      "CR_PROD_CNT_CC              1.0\n",
      "REST_DYNAMIC_FDEP_3M        1.0\n",
      "REST_DYNAMIC_IL_1M          1.0\n",
      "CR_PROD_CNT_CCFP            1.0\n",
      "REST_DYNAMIC_CUR_1M         1.0\n",
      "REST_AVG_PAYM               1.0\n",
      "LDEAL_GRACE_DAYS_PCT_MED    1.0\n",
      "REST_DYNAMIC_CUR_3M         1.0\n",
      "CNT_TRAN_SUP_TENDENCY3M     1.0\n",
      "TURNOVER_DYNAMIC_CUR_1M     1.0\n",
      "REST_DYNAMIC_PAYM_3M        1.0\n",
      "SUM_TRAN_SUP_TENDENCY3M     1.0\n",
      "REST_DYNAMIC_IL_3M          1.0\n",
      "CNT_TRAN_ATM_TENDENCY3M     1.0\n",
      "CNT_TRAN_ATM_TENDENCY1M     1.0\n",
      "TURNOVER_DYNAMIC_IL_3M      1.0\n",
      "SUM_TRAN_ATM_TENDENCY3M     1.0\n",
      "SUM_TRAN_ATM_TENDENCY1M     1.0\n",
      "REST_DYNAMIC_PAYM_1M        1.0\n",
      "TURNOVER_DYNAMIC_CUR_3M     1.0\n",
      "CLNT_SETUP_TENOR            1.0\n",
      "TURNOVER_DYNAMIC_PAYM_3M    1.0\n",
      "TURNOVER_DYNAMIC_PAYM_1M    1.0\n",
      "TRANS_AMOUNT_TENDENCY3M     1.0\n",
      "TRANS_CNT_TENDENCY3M        1.0\n",
      "REST_DYNAMIC_CC_1M          1.0\n",
      "TURNOVER_DYNAMIC_CC_1M      1.0\n",
      "REST_DYNAMIC_CC_3M          1.0\n",
      "TURNOVER_DYNAMIC_CC_3M      1.0\n",
      "dtype: float64\n"
     ]
    }
   ],
   "source": [
    "from sklearn.preprocessing import StandardScaler as scaler\n",
    "X_num_scal = pd.DataFrame(scaler().fit_transform(X_num), columns=X_num.columns)\n",
    "print(f'Cтандартное отклонение:\\n{X_num_scal.std().round(2)}')"
   ]
  },
  {
   "cell_type": "code",
   "execution_count": 14,
   "metadata": {},
   "outputs": [
    {
     "name": "stdout",
     "output_type": "stream",
     "text": [
      "Среднее отклонение:\n",
      "CR_PROD_CNT_IL              0.0\n",
      "AMOUNT_RUB_CLO_PRC          0.0\n",
      "TURNOVER_DYNAMIC_IL_1M      0.0\n",
      "AMOUNT_RUB_SUP_PRC          0.0\n",
      "REST_DYNAMIC_FDEP_1M        0.0\n",
      "REST_DYNAMIC_SAVE_3M        0.0\n",
      "CR_PROD_CNT_VCU             0.0\n",
      "REST_AVG_CUR                0.0\n",
      "AMOUNT_RUB_NAS_PRC          0.0\n",
      "TRANS_COUNT_SUP_PRC         0.0\n",
      "TRANS_COUNT_NAS_PRC         0.0\n",
      "CR_PROD_CNT_TOVR            0.0\n",
      "CR_PROD_CNT_PIL             0.0\n",
      "TURNOVER_CC                 0.0\n",
      "TRANS_COUNT_ATM_PRC         0.0\n",
      "AMOUNT_RUB_ATM_PRC          0.0\n",
      "TURNOVER_PAYM               0.0\n",
      "AGE                         0.0\n",
      "CR_PROD_CNT_CC              0.0\n",
      "REST_DYNAMIC_FDEP_3M        0.0\n",
      "REST_DYNAMIC_IL_1M          0.0\n",
      "CR_PROD_CNT_CCFP            0.0\n",
      "REST_DYNAMIC_CUR_1M         0.0\n",
      "REST_AVG_PAYM               0.0\n",
      "LDEAL_GRACE_DAYS_PCT_MED    0.0\n",
      "REST_DYNAMIC_CUR_3M         0.0\n",
      "CNT_TRAN_SUP_TENDENCY3M     0.0\n",
      "TURNOVER_DYNAMIC_CUR_1M     0.0\n",
      "REST_DYNAMIC_PAYM_3M        0.0\n",
      "SUM_TRAN_SUP_TENDENCY3M     0.0\n",
      "REST_DYNAMIC_IL_3M          0.0\n",
      "CNT_TRAN_ATM_TENDENCY3M     0.0\n",
      "CNT_TRAN_ATM_TENDENCY1M     0.0\n",
      "TURNOVER_DYNAMIC_IL_3M      0.0\n",
      "SUM_TRAN_ATM_TENDENCY3M     0.0\n",
      "SUM_TRAN_ATM_TENDENCY1M     0.0\n",
      "REST_DYNAMIC_PAYM_1M        0.0\n",
      "TURNOVER_DYNAMIC_CUR_3M     0.0\n",
      "CLNT_SETUP_TENOR            0.0\n",
      "TURNOVER_DYNAMIC_PAYM_3M    0.0\n",
      "TURNOVER_DYNAMIC_PAYM_1M    0.0\n",
      "TRANS_AMOUNT_TENDENCY3M     0.0\n",
      "TRANS_CNT_TENDENCY3M        0.0\n",
      "REST_DYNAMIC_CC_1M          0.0\n",
      "TURNOVER_DYNAMIC_CC_1M      0.0\n",
      "REST_DYNAMIC_CC_3M          0.0\n",
      "TURNOVER_DYNAMIC_CC_3M      0.0\n",
      "dtype: float64\n"
     ]
    }
   ],
   "source": [
    "print(f'Среднее отклонение:\\n{X_num_scal.mean().round(2).abs()}')"
   ]
  },
  {
   "cell_type": "markdown",
   "metadata": {},
   "source": [
    "## Задание 5\n",
    "Алгоритмы машинного обучения плохо работают с категориальными признаками, поэтому их надо трансформировать. \n",
    "Прочитай про One-Hot Encoding подход к кодированию и примени его с нашим категориальным признаком, сохрани \n",
    "результат в переменную `X_cat_ohe`\n",
    "Перед этим удали признак `CLNT_JOB_POSITION` (у него слишком много значений).\n",
    "Выведи количество колонок таблицы `X_cat_ohe`"
   ]
  },
  {
   "cell_type": "code",
   "execution_count": 15,
   "metadata": {
    "ExecuteTime": {
     "end_time": "2023-09-02T17:40:11.399405300Z",
     "start_time": "2023-09-02T17:40:11.204452700Z"
    }
   },
   "outputs": [
    {
     "name": "stdout",
     "output_type": "stream",
     "text": [
      "Количество колонок: 323\n"
     ]
    }
   ],
   "source": [
    "from sklearn.preprocessing import OneHotEncoder\n",
    "encoder = OneHotEncoder(handle_unknown='ignore')\n",
    "X_cat_drop = X_cat.drop('CLNT_JOB_POSITION', axis=1)\n",
    "X_cat_ohe = pd.DataFrame((encoder.fit_transform(X_cat_drop)).toarray(), columns=encoder.get_feature_names_out(X_cat_drop.columns))\n",
    "print(f'Количество колонок: {X_cat_ohe.shape[1]}')"
   ]
  },
  {
   "cell_type": "markdown",
   "metadata": {},
   "source": [
    "## Задание 6\n",
    "Объедини 2 предобработанных датасета. Результат запиши в переменную `X_ready`. Сохрани датасет в папку `datasets/data_prepared.csv`\n",
    "Подели получившийся датасет на `train` и `test`. Процент тестовой выборки: `20%`. Использовать параметр `random_state=21`.\n",
    "Выведи размерность обучающей выборки X_train.\n"
   ]
  },
  {
   "cell_type": "code",
   "execution_count": 16,
   "metadata": {
    "ExecuteTime": {
     "end_time": "2023-09-02T17:40:11.399405300Z",
     "start_time": "2023-09-02T17:40:11.210269400Z"
    }
   },
   "outputs": [],
   "source": [
    "X_ready = pd.concat([X_num_scal, X_cat_ohe], axis = 1)\n",
    "X_ready.to_csv('../datasets/data_prepared.csv', index = False)"
   ]
  },
  {
   "cell_type": "code",
   "execution_count": 17,
   "metadata": {},
   "outputs": [
    {
     "name": "stdout",
     "output_type": "stream",
     "text": [
      "Размерность обучающей выборки: (284152, 370)\n"
     ]
    }
   ],
   "source": [
    "from sklearn.model_selection import train_test_split\n",
    "X_train, X_test, Y_train, Y_test = train_test_split(X_ready, Y, test_size=0.2, random_state=21)\n",
    "print(f'Размерность обучающей выборки: {X_train.shape}')"
   ]
  },
  {
   "cell_type": "markdown",
   "metadata": {},
   "source": [
    "## Задание 7 \n",
    "Обучи логистическую регрессию с параметрами: `solver='liblinear'`, `fit_intercept=False`, `penalty='l1'`, `random_state=21`. \n",
    "Посчитай `accuracy` модели на тестовой выборке, сравнив предсказанные значения с реальными.\n",
    "Выведи значение `accuracy` модели на тестовой выборке."
   ]
  },
  {
   "cell_type": "code",
   "execution_count": 18,
   "metadata": {
    "ExecuteTime": {
     "end_time": "2023-09-02T17:40:11.400406300Z",
     "start_time": "2023-09-02T17:40:11.214276100Z"
    }
   },
   "outputs": [
    {
     "data": {
      "text/html": [
       "<style>#sk-container-id-1 {color: black;}#sk-container-id-1 pre{padding: 0;}#sk-container-id-1 div.sk-toggleable {background-color: white;}#sk-container-id-1 label.sk-toggleable__label {cursor: pointer;display: block;width: 100%;margin-bottom: 0;padding: 0.3em;box-sizing: border-box;text-align: center;}#sk-container-id-1 label.sk-toggleable__label-arrow:before {content: \"▸\";float: left;margin-right: 0.25em;color: #696969;}#sk-container-id-1 label.sk-toggleable__label-arrow:hover:before {color: black;}#sk-container-id-1 div.sk-estimator:hover label.sk-toggleable__label-arrow:before {color: black;}#sk-container-id-1 div.sk-toggleable__content {max-height: 0;max-width: 0;overflow: hidden;text-align: left;background-color: #f0f8ff;}#sk-container-id-1 div.sk-toggleable__content pre {margin: 0.2em;color: black;border-radius: 0.25em;background-color: #f0f8ff;}#sk-container-id-1 input.sk-toggleable__control:checked~div.sk-toggleable__content {max-height: 200px;max-width: 100%;overflow: auto;}#sk-container-id-1 input.sk-toggleable__control:checked~label.sk-toggleable__label-arrow:before {content: \"▾\";}#sk-container-id-1 div.sk-estimator input.sk-toggleable__control:checked~label.sk-toggleable__label {background-color: #d4ebff;}#sk-container-id-1 div.sk-label input.sk-toggleable__control:checked~label.sk-toggleable__label {background-color: #d4ebff;}#sk-container-id-1 input.sk-hidden--visually {border: 0;clip: rect(1px 1px 1px 1px);clip: rect(1px, 1px, 1px, 1px);height: 1px;margin: -1px;overflow: hidden;padding: 0;position: absolute;width: 1px;}#sk-container-id-1 div.sk-estimator {font-family: monospace;background-color: #f0f8ff;border: 1px dotted black;border-radius: 0.25em;box-sizing: border-box;margin-bottom: 0.5em;}#sk-container-id-1 div.sk-estimator:hover {background-color: #d4ebff;}#sk-container-id-1 div.sk-parallel-item::after {content: \"\";width: 100%;border-bottom: 1px solid gray;flex-grow: 1;}#sk-container-id-1 div.sk-label:hover label.sk-toggleable__label {background-color: #d4ebff;}#sk-container-id-1 div.sk-serial::before {content: \"\";position: absolute;border-left: 1px solid gray;box-sizing: border-box;top: 0;bottom: 0;left: 50%;z-index: 0;}#sk-container-id-1 div.sk-serial {display: flex;flex-direction: column;align-items: center;background-color: white;padding-right: 0.2em;padding-left: 0.2em;position: relative;}#sk-container-id-1 div.sk-item {position: relative;z-index: 1;}#sk-container-id-1 div.sk-parallel {display: flex;align-items: stretch;justify-content: center;background-color: white;position: relative;}#sk-container-id-1 div.sk-item::before, #sk-container-id-1 div.sk-parallel-item::before {content: \"\";position: absolute;border-left: 1px solid gray;box-sizing: border-box;top: 0;bottom: 0;left: 50%;z-index: -1;}#sk-container-id-1 div.sk-parallel-item {display: flex;flex-direction: column;z-index: 1;position: relative;background-color: white;}#sk-container-id-1 div.sk-parallel-item:first-child::after {align-self: flex-end;width: 50%;}#sk-container-id-1 div.sk-parallel-item:last-child::after {align-self: flex-start;width: 50%;}#sk-container-id-1 div.sk-parallel-item:only-child::after {width: 0;}#sk-container-id-1 div.sk-dashed-wrapped {border: 1px dashed gray;margin: 0 0.4em 0.5em 0.4em;box-sizing: border-box;padding-bottom: 0.4em;background-color: white;}#sk-container-id-1 div.sk-label label {font-family: monospace;font-weight: bold;display: inline-block;line-height: 1.2em;}#sk-container-id-1 div.sk-label-container {text-align: center;}#sk-container-id-1 div.sk-container {/* jupyter's `normalize.less` sets `[hidden] { display: none; }` but bootstrap.min.css set `[hidden] { display: none !important; }` so we also need the `!important` here to be able to override the default hidden behavior on the sphinx rendered scikit-learn.org. See: https://github.com/scikit-learn/scikit-learn/issues/21755 */display: inline-block !important;position: relative;}#sk-container-id-1 div.sk-text-repr-fallback {display: none;}</style><div id=\"sk-container-id-1\" class=\"sk-top-container\"><div class=\"sk-text-repr-fallback\"><pre>LogisticRegression(fit_intercept=False, penalty=&#x27;l1&#x27;, random_state=21,\n",
       "                   solver=&#x27;liblinear&#x27;)</pre><b>In a Jupyter environment, please rerun this cell to show the HTML representation or trust the notebook. <br />On GitHub, the HTML representation is unable to render, please try loading this page with nbviewer.org.</b></div><div class=\"sk-container\" hidden><div class=\"sk-item\"><div class=\"sk-estimator sk-toggleable\"><input class=\"sk-toggleable__control sk-hidden--visually\" id=\"sk-estimator-id-1\" type=\"checkbox\" checked><label for=\"sk-estimator-id-1\" class=\"sk-toggleable__label sk-toggleable__label-arrow\">LogisticRegression</label><div class=\"sk-toggleable__content\"><pre>LogisticRegression(fit_intercept=False, penalty=&#x27;l1&#x27;, random_state=21,\n",
       "                   solver=&#x27;liblinear&#x27;)</pre></div></div></div></div></div>"
      ],
      "text/plain": [
       "LogisticRegression(fit_intercept=False, penalty='l1', random_state=21,\n",
       "                   solver='liblinear')"
      ]
     },
     "execution_count": 18,
     "metadata": {},
     "output_type": "execute_result"
    }
   ],
   "source": [
    "from sklearn.linear_model import LogisticRegression\n",
    "logreg_model = LogisticRegression(solver='liblinear', fit_intercept=False, penalty='l1', random_state=21)\n",
    "logreg_model.fit(X_train, Y_train.values.ravel())"
   ]
  },
  {
   "cell_type": "code",
   "execution_count": 28,
   "metadata": {},
   "outputs": [
    {
     "name": "stdout",
     "output_type": "stream",
     "text": [
      "accuracy модели на тестовой выборке: 91.97613%\n"
     ]
    }
   ],
   "source": [
    "from sklearn.metrics import accuracy_score\n",
    "Y_predict = logreg_model.predict(X_test)\n",
    "accuracy = accuracy_score(Y_test, Y_predict)\n",
    "print(f'accuracy модели на тестовой выборке: {(accuracy*100).round(5)}%')"
   ]
  },
  {
   "cell_type": "markdown",
   "metadata": {},
   "source": [
    "## Задание 8\n",
    "Посчитай процент клиентов в тестовой выборке, у которых индикатор оттока равен `0`, и сравни с `accuracy`.\n",
    "Тебе что-то должно показаться подозрительным)"
   ]
  },
  {
   "cell_type": "code",
   "execution_count": 29,
   "metadata": {
    "ExecuteTime": {
     "end_time": "2023-09-02T17:40:11.400406300Z",
     "start_time": "2023-09-02T17:40:11.219543800Z"
    }
   },
   "outputs": [
    {
     "name": "stdout",
     "output_type": "stream",
     "text": [
      "Процент клиентов в тестовой выборке, у которых индикатор оттока равен 0: 91.96064%\n"
     ]
    }
   ],
   "source": [
    "percent = Y_test['TARGET'].value_counts(normalize=True)\n",
    "print(f'Процент клиентов в тестовой выборке, у которых индикатор оттока равен 0: {(percent[0]*100).round(5)}%')"
   ]
  },
  {
   "cell_type": "markdown",
   "metadata": {},
   "source": [
    "## Задание 9\n",
    "Построй график, на котором видны топ-10 самых важных факторов по мнению модели в абсолютном значении."
   ]
  },
  {
   "cell_type": "code",
   "execution_count": 30,
   "metadata": {},
   "outputs": [
    {
     "data": {
      "text/html": [
       "<div>\n",
       "<style scoped>\n",
       "    .dataframe tbody tr th:only-of-type {\n",
       "        vertical-align: middle;\n",
       "    }\n",
       "\n",
       "    .dataframe tbody tr th {\n",
       "        vertical-align: top;\n",
       "    }\n",
       "\n",
       "    .dataframe thead th {\n",
       "        text-align: right;\n",
       "    }\n",
       "</style>\n",
       "<table border=\"1\" class=\"dataframe\">\n",
       "  <thead>\n",
       "    <tr style=\"text-align: right;\">\n",
       "      <th></th>\n",
       "      <th>Feature</th>\n",
       "      <th>Importance</th>\n",
       "    </tr>\n",
       "  </thead>\n",
       "  <tbody>\n",
       "    <tr>\n",
       "      <th>153</th>\n",
       "      <td>AVG_PCT_DEBT_TO_DEAL_AMT_GROUP_очень высокая</td>\n",
       "      <td>2.005749</td>\n",
       "    </tr>\n",
       "    <tr>\n",
       "      <th>154</th>\n",
       "      <td>AVG_PCT_DEBT_TO_DEAL_AMT_GROUP_средняя</td>\n",
       "      <td>1.997328</td>\n",
       "    </tr>\n",
       "    <tr>\n",
       "      <th>7</th>\n",
       "      <td>REST_AVG_CUR</td>\n",
       "      <td>1.942772</td>\n",
       "    </tr>\n",
       "    <tr>\n",
       "      <th>368</th>\n",
       "      <td>PACK_m01</td>\n",
       "      <td>1.217862</td>\n",
       "    </tr>\n",
       "    <tr>\n",
       "      <th>157</th>\n",
       "      <td>LDEAL_AMT_MONTH_GROUP_очень высокая</td>\n",
       "      <td>1.170939</td>\n",
       "    </tr>\n",
       "    <tr>\n",
       "      <th>286</th>\n",
       "      <td>SUM_TRAN_SUP_TENDENCY1M_GROUP_неизвестна</td>\n",
       "      <td>1.045800</td>\n",
       "    </tr>\n",
       "    <tr>\n",
       "      <th>59</th>\n",
       "      <td>APP_REGISTR_RGN_CODE_20</td>\n",
       "      <td>1.023206</td>\n",
       "    </tr>\n",
       "    <tr>\n",
       "      <th>75</th>\n",
       "      <td>APP_REGISTR_RGN_CODE_35</td>\n",
       "      <td>1.021116</td>\n",
       "    </tr>\n",
       "    <tr>\n",
       "      <th>293</th>\n",
       "      <td>CLNT_SALARY_VALUE_GROUP_средняя</td>\n",
       "      <td>1.012495</td>\n",
       "    </tr>\n",
       "    <tr>\n",
       "      <th>158</th>\n",
       "      <td>LDEAL_AMT_MONTH_GROUP_средняя</td>\n",
       "      <td>0.961696</td>\n",
       "    </tr>\n",
       "  </tbody>\n",
       "</table>\n",
       "</div>"
      ],
      "text/plain": [
       "                                          Feature  Importance\n",
       "153  AVG_PCT_DEBT_TO_DEAL_AMT_GROUP_очень высокая    2.005749\n",
       "154        AVG_PCT_DEBT_TO_DEAL_AMT_GROUP_средняя    1.997328\n",
       "7                                    REST_AVG_CUR    1.942772\n",
       "368                                      PACK_m01    1.217862\n",
       "157           LDEAL_AMT_MONTH_GROUP_очень высокая    1.170939\n",
       "286      SUM_TRAN_SUP_TENDENCY1M_GROUP_неизвестна    1.045800\n",
       "59                        APP_REGISTR_RGN_CODE_20    1.023206\n",
       "75                        APP_REGISTR_RGN_CODE_35    1.021116\n",
       "293               CLNT_SALARY_VALUE_GROUP_средняя    1.012495\n",
       "158                 LDEAL_AMT_MONTH_GROUP_средняя    0.961696"
      ]
     },
     "execution_count": 30,
     "metadata": {},
     "output_type": "execute_result"
    }
   ],
   "source": [
    "absolute = np.absolute(logreg_model.coef_[0])\n",
    "graph_df = pd.DataFrame({'Feature': X_ready.columns, 'Importance': absolute}).sort_values(by='Importance', ascending=False)\n",
    "graph_df.head(10)"
   ]
  },
  {
   "cell_type": "code",
   "execution_count": 31,
   "metadata": {
    "ExecuteTime": {
     "end_time": "2023-09-02T17:40:11.400406300Z",
     "start_time": "2023-09-02T17:40:11.224055700Z"
    }
   },
   "outputs": [
    {
     "data": {
      "image/png": "[encoded data removed]",
      "text/plain": [
       "<Figure size 1200x500 with 1 Axes>"
      ]
     },
     "metadata": {},
     "output_type": "display_data"
    }
   ],
   "source": [
    "import seaborn as sns\n",
    "from matplotlib import pyplot as plt\n",
    "plt.figure(figsize=(12,5))\n",
    "plt.barh(graph_df['Feature'][:10], graph_df['Importance'][:10], align='center', color=sns.color_palette('deep'))\n",
    "plt.gca().invert_yaxis()\n",
    "plt.show()"
   ]
  }
 ],
 "metadata": {
  "colab": {
   "collapsed_sections": [
    "KPtcdkJ3Pc4I"
   ],
   "name": "d02_task.ipynb",
   "provenance": []
  },
  "kernelspec": {
   "display_name": "Python 3 (ipykernel)",
   "language": "python",
   "name": "python3"
  },
  "language_info": {
   "codemirror_mode": {
    "name": "ipython",
    "version": 3
   },
   "file_extension": ".py",
   "mimetype": "text/x-python",
   "name": "python",
   "nbconvert_exporter": "python",
   "pygments_lexer": "ipython3",
   "version": "3.11.1"
  }
 },
 "nbformat": 4,
 "nbformat_minor": 4
}
