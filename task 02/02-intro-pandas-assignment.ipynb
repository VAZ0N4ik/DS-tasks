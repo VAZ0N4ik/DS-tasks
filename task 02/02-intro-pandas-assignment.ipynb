{
 "cells": [
  {
   "cell_type": "markdown",
   "metadata": {},
   "source": [
    "# Задание"
   ]
  },
  {
   "cell_type": "code",
   "execution_count": 1,
   "metadata": {},
   "outputs": [],
   "source": [
    "import pandas as pd\n",
    "data = pd.read_csv('kaggle_survey_2022_responses.csv',low_memory=False)\n",
    "data=data.drop(0)\n",
    "\n",
    "# pd.set_option('display.max_columns', None)\n",
    "# pd.set_option('max_colwidth', None)\n",
    "# name2question = data.iloc[0]"
   ]
  },
  {
   "cell_type": "markdown",
   "metadata": {},
   "source": [
    "## Task 1"
   ]
  },
  {
   "cell_type": "markdown",
   "metadata": {},
   "source": [
    "Узнай самый часто встречаемый возраст респондентов"
   ]
  },
  {
   "cell_type": "code",
   "execution_count": 2,
   "metadata": {},
   "outputs": [
    {
     "name": "stdout",
     "output_type": "stream",
     "text": [
      "18-21    4559\n"
     ]
    }
   ],
   "source": [
    "print(str(data['Q2'].value_counts().iloc[:1]).split('\\n')[1])\n",
    "#data['Q2'].value_counts()"
   ]
  },
  {
   "cell_type": "markdown",
   "metadata": {},
   "source": [
    "## Task 2"
   ]
  },
  {
   "cell_type": "markdown",
   "metadata": {},
   "source": [
    "Посчитай долю женщин среди русских участников опроса, которые уже не студенты. Результат округли до двух цифр после запятой"
   ]
  },
  {
   "cell_type": "code",
   "execution_count": 3,
   "metadata": {},
   "outputs": [
    {
     "name": "stdout",
     "output_type": "stream",
     "text": [
      "0.24\n"
     ]
    }
   ],
   "source": [
    "women=data[(data['Q4']=='Russia') & (data['Q3'] == 'Woman') & (data['Q5'] == 'No')]\n",
    "members=data[(data['Q4']=='Russia') & (data['Q5'] == 'No')]\n",
    "print(round(len(women)/len(members),2))"
   ]
  },
  {
   "cell_type": "markdown",
   "metadata": {},
   "source": [
    "## Task 3"
   ]
  },
  {
   "cell_type": "markdown",
   "metadata": {},
   "source": [
    "Найди среднее время заполнения опроса в **минутах**. Результат округли до двух знаков после запятой"
   ]
  },
  {
   "cell_type": "code",
   "execution_count": 4,
   "metadata": {},
   "outputs": [
    {
     "name": "stdout",
     "output_type": "stream",
     "text": [
      "168.17\n"
     ]
    }
   ],
   "source": [
    "columns=data[data.columns[0:]].to_numpy()\n",
    "c,s=0,0\n",
    "for i in columns:\n",
    "    s+=int(i[0])\n",
    "    c+=1\n",
    "print(round(s/c/60,2))"
   ]
  },
  {
   "cell_type": "markdown",
   "metadata": {},
   "source": [
    "## Task 4"
   ]
  },
  {
   "cell_type": "markdown",
   "metadata": {},
   "source": [
    "Выведи топ-3 образовательных курса, которые указали респонденты. P.S Это вопрос Q6"
   ]
  },
  {
   "cell_type": "code",
   "execution_count": 5,
   "metadata": {},
   "outputs": [
    {
     "name": "stdout",
     "output_type": "stream",
     "text": [
      "Coursera                                                 9699\n",
      "University Courses (resulting in a university degree)    6780\n",
      "Kaggle Learn Courses                                     6628\n"
     ]
    }
   ],
   "source": [
    "q6_columns = [col for col in data.columns if col.startswith('Q6')]\n",
    "courses = data[q6_columns].melt(var_name='question', value_vars=q6_columns)\n",
    "for i in str(courses['value'].value_counts().iloc[:3]).split('\\n')[1:-1]:\n",
    "    print(i)"
   ]
  },
  {
   "cell_type": "markdown",
   "metadata": {},
   "source": [
    "## Task 5"
   ]
  },
  {
   "cell_type": "markdown",
   "metadata": {},
   "source": [
    "Узнай топ-5 языков программирования, которые регулярно используют Data Scientists в своей работе"
   ]
  },
  {
   "cell_type": "code",
   "execution_count": 6,
   "metadata": {},
   "outputs": [
    {
     "name": "stdout",
     "output_type": "stream",
     "text": [
      "Python 1808\n",
      "SQL 1140\n",
      "R 530\n",
      "Bash 248\n",
      "Javascript 187\n"
     ]
    }
   ],
   "source": [
    "l=[]\n",
    "q12_columns = [col for col in data.columns if col.startswith('Q12') and col!='Q12_14']\n",
    "for i in data[q12_columns]:\n",
    "    dslangs = pd.crosstab(data[i], data['Q23'], margins=True)\n",
    "    l.append(dslangs['Data Scientist'])\n",
    "l=sorted(l,key=lambda x:x[0],reverse=True)\n",
    "for i in range(5):\n",
    "    print(str(str(l[i]).split()[1]) + ' ' + str(str(l[i]).split()[2]))"
   ]
  },
  {
   "cell_type": "markdown",
   "metadata": {},
   "source": [
    "## Task 6"
   ]
  },
  {
   "cell_type": "markdown",
   "metadata": {},
   "source": [
    "Узнай средний доход среди 'Data Scientist' специалистов и средний доход среди 'Machine Learning/ MLops Engineer' \\\n",
    "Т.к. в колонке Q29 указан промежуток, то возьми среднее значение из промежутка. \n",
    "\n",
    "Например: \n",
    "- '15,000-19,999' - 17500, \n",
    "- '125,000-149,999' - 137500. \n",
    "- \\> $1,000,000 - оставляем 1000000\n",
    "\n",
    "Средние доход **округли до целого.**"
   ]
  },
  {
   "cell_type": "code",
   "execution_count": 7,
   "metadata": {},
   "outputs": [
    {
     "name": "stdout",
     "output_type": "stream",
     "text": [
      "Data Scientist: 70337\n",
      "Machine Learning/ MLops Engineer: 67438\n"
     ]
    }
   ],
   "source": [
    "def interval(s):\n",
    "    x='>$,'\n",
    "    for i in s:\n",
    "        if i in x:\n",
    "            s=s.replace(i,'')\n",
    "    return round(sum([int(i) for i in s.split('-')])/len(s.split('-')))\n",
    "\n",
    "salaries=pd.crosstab(data['Q29'],data['Q23'],margins=True)\n",
    "ds=[i.split() for i in str(salaries['Data Scientist'][0:]).split('\\n')[1:-2]]\n",
    "ml=[i.split() for i in str(salaries['Machine Learning/ MLops Engineer'][0:]).split('\\n')[1:-2]]\n",
    "cds,sds,cml,sml=0,0,0,0\n",
    "for i in ds:\n",
    "    cds+=int(i[1])\n",
    "    sds+=interval(i[0])*int(i[1])\n",
    "for i in ml:\n",
    "    cml+=int(i[1])\n",
    "    sml+=interval(i[0])*int(i[1])\n",
    "print('Data Scientist: ' + str(round(sds/cds)))\n",
    "print('Machine Learning/ MLops Engineer: ' + str(round(sml/cml)))"
   ]
  },
  {
   "cell_type": "markdown",
   "metadata": {},
   "source": [
    "## Дополнительно"
   ]
  },
  {
   "cell_type": "markdown",
   "metadata": {},
   "source": [
    "Найди какой-нибудь интересный инсайт из этих данных. Пиши свои интересные инсайты в чат проекта с хэштегом.\n",
    "#инсайт\n",
    "\n",
    "Автор самого интересного инсайта получит p2p баллы. Поверь, они тебе понадобятся"
   ]
  },
  {
   "cell_type": "code",
   "execution_count": 8,
   "metadata": {},
   "outputs": [],
   "source": [
    "# Код тут"
   ]
  }
 ],
 "metadata": {
  "kernelspec": {
   "display_name": "Python 3 (ipykernel)",
   "language": "python",
   "name": "python3"
  },
  "language_info": {
   "codemirror_mode": {
    "name": "ipython",
    "version": 3
   },
   "file_extension": ".py",
   "mimetype": "text/x-python",
   "name": "python",
   "nbconvert_exporter": "python",
   "pygments_lexer": "ipython3",
   "version": "3.8.10"
  }
 },
 "nbformat": 4,
 "nbformat_minor": 4
}
