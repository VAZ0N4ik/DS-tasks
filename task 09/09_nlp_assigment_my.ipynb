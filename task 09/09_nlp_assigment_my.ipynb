{
 "cells": [
  {
   "cell_type": "markdown",
   "id": "e73517c0-2692-4321-846c-9d8d61141d9a",
   "metadata": {
    "id": "e73517c0-2692-4321-846c-9d8d61141d9a"
   },
   "source": [
    "# Natural language processing"
   ]
  },
  {
   "cell_type": "code",
   "execution_count": 2,
   "id": "mxDbBOYbiNm3",
   "metadata": {
    "id": "mxDbBOYbiNm3"
   },
   "outputs": [],
   "source": [
    "import numpy as np\n",
    "import pandas as pd\n",
    "import matplotlib.pyplot as plt\n"
   ]
  },
  {
   "cell_type": "markdown",
   "id": "bd08f95f-ff3d-41c2-aff8-a33c99136b40",
   "metadata": {
    "id": "bd08f95f-ff3d-41c2-aff8-a33c99136b40"
   },
   "source": [
    "## Task 1"
   ]
  },
  {
   "cell_type": "markdown",
   "id": "100e1fc2-654c-4f05-8171-8ac4ca7d9acc",
   "metadata": {
    "id": "100e1fc2-654c-4f05-8171-8ac4ca7d9acc"
   },
   "source": [
    "Загрузи датасет. Отрисуй Bar-plot с количеством комментариев для каждой категории токсичности\n",
    "и комментариев без токсичности.\n",
    "![sample](../misc/images/bar-plot.png)\n",
    "Выведи эти количества для каждой категории."
   ]
  },
  {
   "cell_type": "code",
   "execution_count": 3,
   "id": "c53dce91-7c94-4d1f-9158-c9e8130b111d",
   "metadata": {
    "colab": {
     "base_uri": "https://localhost:8080/",
     "height": 206
    },
    "id": "c53dce91-7c94-4d1f-9158-c9e8130b111d",
    "outputId": "d83dd006-cd1b-4406-a411-edac0c80bd3e"
   },
   "outputs": [
    {
     "data": {
      "text/html": [
       "<div>\n",
       "<style scoped>\n",
       "    .dataframe tbody tr th:only-of-type {\n",
       "        vertical-align: middle;\n",
       "    }\n",
       "\n",
       "    .dataframe tbody tr th {\n",
       "        vertical-align: top;\n",
       "    }\n",
       "\n",
       "    .dataframe thead th {\n",
       "        text-align: right;\n",
       "    }\n",
       "</style>\n",
       "<table border=\"1\" class=\"dataframe\">\n",
       "  <thead>\n",
       "    <tr style=\"text-align: right;\">\n",
       "      <th></th>\n",
       "      <th>id</th>\n",
       "      <th>comment_text</th>\n",
       "      <th>toxic</th>\n",
       "      <th>severe_toxic</th>\n",
       "      <th>obscene</th>\n",
       "      <th>threat</th>\n",
       "      <th>insult</th>\n",
       "      <th>identity_hate</th>\n",
       "    </tr>\n",
       "  </thead>\n",
       "  <tbody>\n",
       "    <tr>\n",
       "      <th>0</th>\n",
       "      <td>0000997932d777bf</td>\n",
       "      <td>Explanation\\nWhy the edits made under my usern...</td>\n",
       "      <td>0</td>\n",
       "      <td>0</td>\n",
       "      <td>0</td>\n",
       "      <td>0</td>\n",
       "      <td>0</td>\n",
       "      <td>0</td>\n",
       "    </tr>\n",
       "    <tr>\n",
       "      <th>1</th>\n",
       "      <td>000103f0d9cfb60f</td>\n",
       "      <td>D'aww! He matches this background colour I'm s...</td>\n",
       "      <td>0</td>\n",
       "      <td>0</td>\n",
       "      <td>0</td>\n",
       "      <td>0</td>\n",
       "      <td>0</td>\n",
       "      <td>0</td>\n",
       "    </tr>\n",
       "    <tr>\n",
       "      <th>2</th>\n",
       "      <td>000113f07ec002fd</td>\n",
       "      <td>Hey man, I'm really not trying to edit war. It...</td>\n",
       "      <td>0</td>\n",
       "      <td>0</td>\n",
       "      <td>0</td>\n",
       "      <td>0</td>\n",
       "      <td>0</td>\n",
       "      <td>0</td>\n",
       "    </tr>\n",
       "    <tr>\n",
       "      <th>3</th>\n",
       "      <td>0001b41b1c6bb37e</td>\n",
       "      <td>\"\\nMore\\nI can't make any real suggestions on ...</td>\n",
       "      <td>0</td>\n",
       "      <td>0</td>\n",
       "      <td>0</td>\n",
       "      <td>0</td>\n",
       "      <td>0</td>\n",
       "      <td>0</td>\n",
       "    </tr>\n",
       "    <tr>\n",
       "      <th>4</th>\n",
       "      <td>0001d958c54c6e35</td>\n",
       "      <td>You, sir, are my hero. Any chance you remember...</td>\n",
       "      <td>0</td>\n",
       "      <td>0</td>\n",
       "      <td>0</td>\n",
       "      <td>0</td>\n",
       "      <td>0</td>\n",
       "      <td>0</td>\n",
       "    </tr>\n",
       "  </tbody>\n",
       "</table>\n",
       "</div>"
      ],
      "text/plain": [
       "                 id                                       comment_text  toxic  \\\n",
       "0  0000997932d777bf  Explanation\\nWhy the edits made under my usern...      0   \n",
       "1  000103f0d9cfb60f  D'aww! He matches this background colour I'm s...      0   \n",
       "2  000113f07ec002fd  Hey man, I'm really not trying to edit war. It...      0   \n",
       "3  0001b41b1c6bb37e  \"\\nMore\\nI can't make any real suggestions on ...      0   \n",
       "4  0001d958c54c6e35  You, sir, are my hero. Any chance you remember...      0   \n",
       "\n",
       "   severe_toxic  obscene  threat  insult  identity_hate  \n",
       "0             0        0       0       0              0  \n",
       "1             0        0       0       0              0  \n",
       "2             0        0       0       0              0  \n",
       "3             0        0       0       0              0  \n",
       "4             0        0       0       0              0  "
      ]
     },
     "execution_count": 3,
     "metadata": {},
     "output_type": "execute_result"
    }
   ],
   "source": [
    "df = pd.read_csv(\"toxic.csv\")\n",
    "df.head(5)"
   ]
  },
  {
   "cell_type": "code",
   "execution_count": 4,
   "id": "Bplzr1COzlhv",
   "metadata": {
    "id": "Bplzr1COzlhv"
   },
   "outputs": [],
   "source": [
    "#количество токсичных комментариев\n",
    "df_col = df.columns[2:]\n",
    "#df[df_col].sum()"
   ]
  },
  {
   "cell_type": "code",
   "execution_count": 5,
   "id": "22e_I6XyugPI",
   "metadata": {
    "id": "22e_I6XyugPI"
   },
   "outputs": [],
   "source": [
    "#добавим нетоксичные комментарии\n",
    "def not_tox(row,df_col):\n",
    "  for a in df_col:\n",
    "    if row[a] == 1:\n",
    "      return 0\n",
    "  return 1\n",
    "\n",
    "df[\"not_tox\"] = df.apply(lambda row: not_tox(row, df_col), axis=1)\n",
    "df_col = df.columns[2:]"
   ]
  },
  {
   "cell_type": "code",
   "execution_count": 6,
   "id": "K908mYGTs5Gd",
   "metadata": {
    "id": "K908mYGTs5Gd"
   },
   "outputs": [],
   "source": [
    "#данные для диаграммы\n",
    "bar_data = df[df_col].sum()\n",
    "bar_data = bar_data.sort_values(ascending = False)\n",
    "bar_data1 = dict(bar_data)"
   ]
  },
  {
   "cell_type": "code",
   "execution_count": 7,
   "id": "PuJkBEJp5ash",
   "metadata": {
    "id": "PuJkBEJp5ash"
   },
   "outputs": [],
   "source": [
    "import seaborn as sns"
   ]
  },
  {
   "cell_type": "code",
   "execution_count": 8,
   "id": "FVLBXEL2qQas",
   "metadata": {
    "colab": {
     "base_uri": "https://localhost:8080/",
     "height": 619
    },
    "id": "FVLBXEL2qQas",
    "outputId": "2adddb5d-a3e0-4be6-95af-9d2caac733f6"
   },
   "outputs": [
    {
     "data": {
      "image/png": "[encoded data removed]",
      "text/plain": [
       "<Figure size 1000x700 with 1 Axes>"
      ]
     },
     "metadata": {},
     "output_type": "display_data"
    }
   ],
   "source": [
    "#строим диаграмму\n",
    "fig = plt.figure(figsize =(10, 7))\n",
    "#plt.bar(bar_data.keys(), bar_data.values(), width = 0.4) - всё одним цветом :P\n",
    "sns.barplot(x = list(bar_data1.keys()), y = list(bar_data1.values()))\n",
    "plt.xlabel(\"Категории\")\n",
    "plt.ylabel(\"Количество комментариев\")\n",
    "plt.show()"
   ]
  },
  {
   "cell_type": "code",
   "execution_count": 9,
   "id": "q82BSbyUjgrG",
   "metadata": {
    "colab": {
     "base_uri": "https://localhost:8080/"
    },
    "id": "q82BSbyUjgrG",
    "outputId": "dc4f30ae-5dfc-4c5c-e5c1-6f5a2ff68858"
   },
   "outputs": [
    {
     "name": "stdout",
     "output_type": "stream",
     "text": [
      "Количество комментариев для каждой категории:\n",
      "not_tox          143346\n",
      "toxic             15294\n",
      "obscene            8449\n",
      "insult             7877\n",
      "severe_toxic       1595\n",
      "identity_hate      1405\n",
      "threat              478\n",
      "dtype: int64\n"
     ]
    }
   ],
   "source": [
    "print(\"Количество комментариев для каждой категории:\")\n",
    "print(bar_data)"
   ]
  },
  {
   "cell_type": "markdown",
   "id": "66f26770-8f33-4dec-887a-17cd969a4560",
   "metadata": {
    "id": "66f26770-8f33-4dec-887a-17cd969a4560"
   },
   "source": [
    "## Task 2"
   ]
  },
  {
   "cell_type": "markdown",
   "id": "a32b334c-b71f-43f7-9634-26ee83f63f94",
   "metadata": {
    "id": "a32b334c-b71f-43f7-9634-26ee83f63f94"
   },
   "source": [
    "Используя библиотеку [nltk](https://www.nltk.org/) обработайте тексты комментариев:\n",
    "* Приведи текст к нижнему регистру и токенизируй\n",
    "* Оставь токены содержащие английского алфавита\n",
    "* Убери знаки препинания, цифры\n",
    "* Убери стоп-слова из библиотки nltk\n",
    "\n",
    "Выведи количество токенов для комментария с индексом `000103f0d9cfb60f`"
   ]
  },
  {
   "cell_type": "code",
   "execution_count": 10,
   "id": "Gs7OXuCm_CST",
   "metadata": {
    "id": "Gs7OXuCm_CST"
   },
   "outputs": [],
   "source": [
    "import nltk"
   ]
  },
  {
   "cell_type": "code",
   "execution_count": 11,
   "id": "1dPIROL0MjBm",
   "metadata": {
    "colab": {
     "base_uri": "https://localhost:8080/"
    },
    "id": "1dPIROL0MjBm",
    "outputId": "16fdb6be-5e98-40ec-c4a3-7b79aa870066"
   },
   "outputs": [
    {
     "name": "stderr",
     "output_type": "stream",
     "text": [
      "[nltk_data] Downloading package punkt to\n",
      "[nltk_data]     C:\\Users\\HELLEN\\AppData\\Roaming\\nltk_data...\n",
      "[nltk_data]   Package punkt is already up-to-date!\n",
      "[nltk_data] Downloading package words to\n",
      "[nltk_data]     C:\\Users\\HELLEN\\AppData\\Roaming\\nltk_data...\n",
      "[nltk_data]   Package words is already up-to-date!\n",
      "[nltk_data] Downloading package stopwords to\n",
      "[nltk_data]     C:\\Users\\HELLEN\\AppData\\Roaming\\nltk_data...\n",
      "[nltk_data]   Package stopwords is already up-to-date!\n"
     ]
    },
    {
     "data": {
      "text/plain": [
       "True"
      ]
     },
     "execution_count": 11,
     "metadata": {},
     "output_type": "execute_result"
    }
   ],
   "source": [
    "from nltk.tokenize import word_tokenize\n",
    "from nltk.corpus import stopwords\n",
    "from nltk.corpus import words\n",
    "nltk.download('punkt')\n",
    "nltk.download('words')\n",
    "nltk.download('stopwords')"
   ]
  },
  {
   "cell_type": "code",
   "execution_count": 12,
   "id": "rfU0x3lgA_b1",
   "metadata": {
    "id": "rfU0x3lgA_b1"
   },
   "outputs": [],
   "source": [
    "sw = set(stopwords.words(\"english\"))\n",
    "def good_word(word):\n",
    "  if (word.isalpha() and word not in sw):\n",
    "    return True\n",
    "  return False\n",
    "def process_one(text):\n",
    "   return(list(filter(good_word, word_tokenize(text = text.lower(), language= \"english\"))))\n",
    "\n",
    "filtered_tokens = df['comment_text'].apply(process_one)\n",
    "df[\"tokens\"] = filtered_tokens\n",
    "#df.head()"
   ]
  },
  {
   "cell_type": "code",
   "execution_count": 13,
   "id": "JhNOKU0w--gn",
   "metadata": {
    "colab": {
     "base_uri": "https://localhost:8080/"
    },
    "id": "JhNOKU0w--gn",
    "outputId": "000b5b62-3e59-4cc3-8562-f7b7c75f190f"
   },
   "outputs": [
    {
     "name": "stdout",
     "output_type": "stream",
     "text": [
      "Количество токенов для комментария с индексом 000103f0d9cfb60f: 9\n"
     ]
    }
   ],
   "source": [
    "# Выведи количество токенов для комментария с индексом 000103f0d9cfb60f\n",
    "print('Количество токенов для комментария с индексом 000103f0d9cfb60f: ' + str(len(df.loc[df[\"id\"] == \"000103f0d9cfb60f\"]['tokens'][1])))\n"
   ]
  },
  {
   "cell_type": "markdown",
   "id": "P6A8BBoW-oaB",
   "metadata": {
    "id": "P6A8BBoW-oaB"
   },
   "source": []
  },
  {
   "cell_type": "markdown",
   "id": "33c1178f-ed36-472b-b31b-b3479d8aecea",
   "metadata": {
    "id": "33c1178f-ed36-472b-b31b-b3479d8aecea"
   },
   "source": [
    "## Task 3"
   ]
  },
  {
   "cell_type": "markdown",
   "id": "2a8dcd9e-62cb-40bd-ba4c-42b991f88e19",
   "metadata": {
    "id": "2a8dcd9e-62cb-40bd-ba4c-42b991f88e19"
   },
   "source": [
    "Раздели выборку на тренировачную и тестовоую с параметрами `random_state=21, test_size=0.3, shuffle=True`\n",
    "Преобразуй тексты комментариев с помощью [TF-IDF](https://scikit-learn.org/stable/modules/generated/sklearn.feature_extraction.text.TfidfVectorizer.html) с количеством признаков равный 3000. \\\n",
    "Выведи размерность тренировачной выборки после преобразования текста."
   ]
  },
  {
   "cell_type": "code",
   "execution_count": 14,
   "id": "NpCM-0WwJkQv",
   "metadata": {
    "colab": {
     "base_uri": "https://localhost:8080/"
    },
    "id": "NpCM-0WwJkQv",
    "outputId": "cac0febc-edd3-4012-bb25-f54ae20d8aa6"
   },
   "outputs": [
    {
     "data": {
      "text/plain": [
       "<159571x3000 sparse matrix of type '<class 'numpy.float64'>'\n",
       "\twith 5753907 stored elements in Compressed Sparse Row format>"
      ]
     },
     "execution_count": 14,
     "metadata": {},
     "output_type": "execute_result"
    }
   ],
   "source": [
    "from sklearn.feature_extraction.text import TfidfVectorizer\n",
    "vectorizer = TfidfVectorizer(use_idf = True,max_features = 3000)\n",
    "x = vectorizer.fit_transform(df[\"comment_text\"])\n",
    "x"
   ]
  },
  {
   "cell_type": "code",
   "execution_count": 15,
   "id": "d24cd2ca-0156-4d27-a6b2-e082b45fca7b",
   "metadata": {
    "colab": {
     "base_uri": "https://localhost:8080/"
    },
    "id": "d24cd2ca-0156-4d27-a6b2-e082b45fca7b",
    "outputId": "3254d4b1-6204-489c-a817-b2c701af01bb"
   },
   "outputs": [
    {
     "name": "stdout",
     "output_type": "stream",
     "text": [
      "Размерность тренировочной выборки после преобразования текста: (111699, 3000)\n"
     ]
    }
   ],
   "source": [
    "from sklearn.model_selection import train_test_split\n",
    "x_train, x_test, y_train, y_test = train_test_split( x, df.loc[:, df.columns[2:9]],\n",
    "                                                    test_size = 0.3,\n",
    "                                                    random_state = 21,\n",
    "                                                    shuffle = True)\n",
    "print(f'Размерность тренировочной выборки после преобразования текста: {x_train.shape}')"
   ]
  },
  {
   "cell_type": "markdown",
   "id": "510ab52e-2dc0-46b3-80b2-2f5a587593b5",
   "metadata": {
    "id": "510ab52e-2dc0-46b3-80b2-2f5a587593b5"
   },
   "source": [
    "## Task 4"
   ]
  },
  {
   "cell_type": "markdown",
   "id": "a2408435-5ee0-42b4-97c2-32740925326b",
   "metadata": {
    "id": "a2408435-5ee0-42b4-97c2-32740925326b"
   },
   "source": [
    "Реши задачу [Multi-Label](https://scikit-learn.org/stable/modules/multiclass.html) классификации используя [RidgeClassifier](https://scikit-learn.org/stable/modules/generated/sklearn.linear_model.RidgeClassifier.html#sklearn.linear_model.RidgeClassifier).\n",
    "Посчитай значение ROC-AUC для тестовой выборки."
   ]
  },
  {
   "cell_type": "code",
   "execution_count": 16,
   "id": "ce606d69-4889-4aad-9cc9-67072b2044d0",
   "metadata": {
    "colab": {
     "base_uri": "https://localhost:8080/"
    },
    "id": "ce606d69-4889-4aad-9cc9-67072b2044d0",
    "outputId": "b7781df3-37fe-4830-db72-03bcba2f5c51"
   },
   "outputs": [
    {
     "name": "stdout",
     "output_type": "stream",
     "text": [
      "Значения ROC-AUC для тестовой выборки: [0.95687533 0.96904205 0.97261764 0.96955353 0.96791932 0.93565869\n",
      " 0.95670606]\n"
     ]
    }
   ],
   "source": [
    "from sklearn.linear_model import RidgeClassifier\n",
    "from sklearn.metrics import roc_auc_score\n",
    "clf = RidgeClassifier().fit(x_train, y_train)\n",
    "first_score = roc_auc_score(y_test, clf.decision_function(x_test), average=None)\n",
    "print(f'Значения ROC-AUC для тестовой выборки: {first_score}')"
   ]
  },
  {
   "cell_type": "markdown",
   "id": "2dd5b405-447d-420c-9841-72f0eaf03742",
   "metadata": {
    "id": "2dd5b405-447d-420c-9841-72f0eaf03742"
   },
   "source": [
    "## Task 5"
   ]
  },
  {
   "cell_type": "markdown",
   "id": "2e8e7d65-26cf-4457-ae30-a59961fd02ca",
   "metadata": {
    "id": "2e8e7d65-26cf-4457-ae30-a59961fd02ca"
   },
   "source": [
    "Есть посмотреть на тексты токсичных комментариев, то можно заметить, что они могут повторять одни и те же слова. Или там чаще встречается `!` знаки. \\\n",
    "Кроме 'прямых' текстовых признаков, можно использоваться и эту статистику по тексту. Например, долю уникальных слов в тексте комментария или количество пунктуации в тексте.\n",
    "\n",
    "Придумай не меньше 4х признаков, которые могут помочь в обучении модели. Добавьте их к признакам TF-IDF и обучите модель.\n",
    "Получилось ли увеличить качество классификации?"
   ]
  },
  {
   "cell_type": "code",
   "execution_count": 17,
   "id": "qJhX0Tq3QJ8l",
   "metadata": {
    "id": "qJhX0Tq3QJ8l"
   },
   "outputs": [],
   "source": [
    "text = df['comment_text']"
   ]
  },
  {
   "cell_type": "code",
   "execution_count": 18,
   "id": "k9DrYKGQU0L0",
   "metadata": {
    "id": "k9DrYKGQU0L0"
   },
   "outputs": [],
   "source": [
    "def process_two(text):\n",
    "#доля \"!?\"\n",
    "  expressions = text.count(\"!\") + text.count(\"?\")\n",
    "\n",
    "#доля уникальных слов\n",
    "  unique = set(text.split())\n",
    "  part_uni = len(unique)/len(filtered_tokens)\n",
    "\n",
    "#количество пунктуационных знаков и гласных букв в тексте\n",
    "  znaki = ['a', 'e', 'i' , 'o' , 'u' , ',' , '.', '!' , '?']\n",
    "  out_lst=[]\n",
    "\n",
    "  for x in text:\n",
    "      if x in znaki:\n",
    "          out_lst.append(x)\n",
    "  part_z = len(out_lst)/len(filtered_tokens)\n",
    "\n",
    "#клавиша Caps Lock\n",
    "  caps = 0\n",
    "  for word in text:\n",
    "    if word.isupper():\n",
    "      caps += 1\n",
    "  part_caps = caps/len(filtered_tokens)\n",
    "\n",
    "#количество слов в комментарии\n",
    "  length = len(filtered_tokens)\n",
    "\n",
    "  return([expressions, part_uni, part_z, part_caps, length])\n",
    "\n",
    "statistica = np.stack(df['comment_text'].apply(process_two).values)\n",
    "#statistica"
   ]
  },
  {
   "cell_type": "code",
   "execution_count": 19,
   "id": "elfu0-zscxIs",
   "metadata": {
    "id": "elfu0-zscxIs"
   },
   "outputs": [],
   "source": [
    "#df.head()"
   ]
  },
  {
   "cell_type": "code",
   "execution_count": 20,
   "id": "1mQ6WxxXdpNR",
   "metadata": {
    "colab": {
     "base_uri": "https://localhost:8080/"
    },
    "id": "1mQ6WxxXdpNR",
    "outputId": "e0a05e06-7866-40da-e69a-5e811ddc33df"
   },
   "outputs": [
    {
     "data": {
      "text/plain": [
       "<159571x3005 sparse matrix of type '<class 'numpy.float64'>'\n",
       "\twith 6441926 stored elements in COOrdinate format>"
      ]
     },
     "execution_count": 20,
     "metadata": {},
     "output_type": "execute_result"
    }
   ],
   "source": [
    "# перезаписываем х\n",
    "\n",
    "from sklearn.feature_extraction.text import TfidfVectorizer\n",
    "vectorizer = TfidfVectorizer(use_idf = True,max_features = 3000)\n",
    "x = vectorizer.fit_transform(df[\"comment_text\"])\n",
    "x\n",
    "\n",
    "from scipy.sparse import *\n",
    "x = hstack((x,statistica))\n",
    "x"
   ]
  },
  {
   "cell_type": "code",
   "execution_count": 21,
   "id": "dXytj40EcmzV",
   "metadata": {
    "id": "dXytj40EcmzV"
   },
   "outputs": [],
   "source": [
    "from sklearn.model_selection import train_test_split\n",
    "x_train, x_test, y_train, y_test = train_test_split( x, df.loc[:, df.columns[2:9]],\n",
    "                                                    test_size = 0.3,\n",
    "                                                    random_state = 21,\n",
    "                                                    shuffle = True)"
   ]
  },
  {
   "cell_type": "code",
   "execution_count": 22,
   "id": "6ajL9cDvlfhD",
   "metadata": {
    "colab": {
     "base_uri": "https://localhost:8080/"
    },
    "id": "6ajL9cDvlfhD",
    "outputId": "16fa330d-21cb-4014-f4a5-646fcb0bc81f"
   },
   "outputs": [
    {
     "name": "stdout",
     "output_type": "stream",
     "text": [
      "Значения ROC-AUC для улучшенной тестовой выборки: [0.95698682 0.96995621 0.97268079 0.96958174 0.96797452 0.93565361\n",
      " 0.95680728]\n"
     ]
    }
   ],
   "source": [
    "from sklearn.linear_model import RidgeClassifier\n",
    "from sklearn.metrics import roc_auc_score\n",
    "clf = RidgeClassifier().fit(x_train, y_train)\n",
    "second_score = roc_auc_score(y_test, clf.decision_function(x_test), average=None)\n",
    "print(f'Значения ROC-AUC для улучшенной тестовой выборки: {second_score}')"
   ]
  }
 ],
 "metadata": {
  "colab": {
   "provenance": []
  },
  "kernelspec": {
   "display_name": "Python 3 (ipykernel)",
   "language": "python",
   "name": "python3"
  },
  "language_info": {
   "codemirror_mode": {
    "name": "ipython",
    "version": 3
   },
   "file_extension": ".py",
   "mimetype": "text/x-python",
   "name": "python",
   "nbconvert_exporter": "python",
   "pygments_lexer": "ipython3",
   "version": "3.8.10"
  }
 },
 "nbformat": 4,
 "nbformat_minor": 5
}
